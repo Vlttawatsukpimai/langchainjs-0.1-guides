{
 "cells": [
  {
   "cell_type": "markdown",
   "metadata": {},
   "source": [
    "# Output Parsing\n",
    "\n",
    "This notebook covers functionality related to output parsing. For more information, see:\n",
    "\n",
    "- [List of all Output Parsers](https://js.langchain.com/docs/modules/model_io/output_parsers/types/)\n",
    "- [OpenAI Function Calling](https://js.langchain.com/docs/modules/model_io/chat/function_calling)\n",
    "\n",
    "## Converting Messages"
   ]
  },
  {
   "cell_type": "code",
   "execution_count": 4,
   "metadata": {},
   "outputs": [],
   "source": [
    "import { ChatOpenAI } from \"@langchain/openai\";\n",
    "import { ChatPromptTemplate } from \"@langchain/core/prompts\";"
   ]
  },
  {
   "cell_type": "code",
   "execution_count": 5,
   "metadata": {},
   "outputs": [],
   "source": [
    "const prompt = ChatPromptTemplate.fromTemplate(\"Tell me a joke about {topic}\");\n",
    "const model = new ChatOpenAI({\n",
    "  modelName: \"gpt-3.5-turbo\",\n",
    "  temperature: 0,\n",
    "});"
   ]
  },
  {
   "cell_type": "code",
   "execution_count": 6,
   "metadata": {},
   "outputs": [],
   "source": [
    "const chain = prompt.pipe(model);"
   ]
  },
  {
   "cell_type": "code",
   "execution_count": 7,
   "metadata": {},
   "outputs": [
    {
     "data": {
      "text/plain": [
       "AIMessage {\n",
       "  lc_serializable: \u001b[33mtrue\u001b[39m,\n",
       "  lc_kwargs: {\n",
       "    content: \u001b[32m\"Why don't bears wear shoes?\\n\\nBecause they have bear feet!\"\u001b[39m,\n",
       "    additional_kwargs: { function_call: \u001b[90mundefined\u001b[39m, tool_calls: \u001b[90mundefined\u001b[39m }\n",
       "  },\n",
       "  lc_namespace: [ \u001b[32m\"langchain_core\"\u001b[39m, \u001b[32m\"messages\"\u001b[39m ],\n",
       "  content: \u001b[32m\"Why don't bears wear shoes?\\n\\nBecause they have bear feet!\"\u001b[39m,\n",
       "  name: \u001b[90mundefined\u001b[39m,\n",
       "  additional_kwargs: { function_call: \u001b[90mundefined\u001b[39m, tool_calls: \u001b[90mundefined\u001b[39m }\n",
       "}"
      ]
     },
     "execution_count": 7,
     "metadata": {},
     "output_type": "execute_result"
    }
   ],
   "source": [
    "await chain.invoke({ topic: \"bears\" });"
   ]
  },
  {
   "cell_type": "code",
   "execution_count": 8,
   "metadata": {},
   "outputs": [],
   "source": [
    "import { StringOutputParser } from \"@langchain/core/output_parsers\";\n",
    "\n",
    "const parser = new StringOutputParser();\n",
    "const chain = prompt.pipe(model).pipe(parser);"
   ]
  },
  {
   "cell_type": "code",
   "execution_count": 9,
   "metadata": {},
   "outputs": [
    {
     "data": {
      "text/plain": [
       "\u001b[32m\"Why don't bears wear shoes?\\n\\nBecause they have bear feet!\"\u001b[39m"
      ]
     },
     "execution_count": 9,
     "metadata": {},
     "output_type": "execute_result"
    }
   ],
   "source": [
    "await chain.invoke({ topic: \"bears\" });"
   ]
  },
  {
   "cell_type": "markdown",
   "metadata": {},
   "source": [
    "## OpenAI Function Calling"
   ]
  },
  {
   "cell_type": "code",
   "execution_count": 10,
   "metadata": {},
   "outputs": [],
   "source": [
    "const openAIFunctions = [\n",
    "  {\n",
    "    name: \"joke_teller\",\n",
    "    description: \"A joke to tell to the user.\",\n",
    "    parameters: {\n",
    "      type: \"object\",\n",
    "      properties: {\n",
    "        setup: {\n",
    "          type: \"string\",\n",
    "          description: \"question to set up a joke\",\n",
    "        },\n",
    "        punchline: {\n",
    "          type: \"string\",\n",
    "          description: \"answer to resolve the joke\",\n",
    "        },\n",
    "      },\n",
    "      required: [\"setup\", \"punchline\"],\n",
    "    },\n",
    "  }\n",
    "]"
   ]
  },
  {
   "cell_type": "code",
   "execution_count": 11,
   "metadata": {},
   "outputs": [],
   "source": [
    "import { JsonOutputFunctionsParser } from \"langchain/output_parsers\";\n"
   ]
  },
  {
   "cell_type": "code",
   "execution_count": 12,
   "metadata": {},
   "outputs": [],
   "source": [
    "const parser = new JsonOutputFunctionsParser<{ setup: string, punchline: string }>();"
   ]
  },
  {
   "cell_type": "code",
   "execution_count": 13,
   "metadata": {},
   "outputs": [],
   "source": [
    "const chain = prompt.pipe(model.bind({ functions: openAIFunctions })).pipe(parser);"
   ]
  },
  {
   "cell_type": "code",
   "execution_count": 14,
   "metadata": {},
   "outputs": [
    {
     "data": {
      "text/plain": [
       "{\n",
       "  setup: \u001b[32m\"Why don't bears wear shoes?\"\u001b[39m,\n",
       "  punchline: \u001b[32m\"Because they have bear feet!\"\u001b[39m\n",
       "}"
      ]
     },
     "execution_count": 14,
     "metadata": {},
     "output_type": "execute_result"
    }
   ],
   "source": [
    "await chain.invoke({ topic: \"bears\" });"
   ]
  },
  {
   "cell_type": "markdown",
   "metadata": {},
   "source": [
    "## Streaming"
   ]
  },
  {
   "cell_type": "code",
   "execution_count": 15,
   "metadata": {},
   "outputs": [
    {
     "name": "stdout",
     "output_type": "stream",
     "text": [
      "{}\n",
      "{ setup: \"\" }\n",
      "{ setup: \"Why\" }\n",
      "{ setup: \"Why don\" }\n",
      "{ setup: \"Why don't\" }\n",
      "{ setup: \"Why don't bears\" }\n",
      "{ setup: \"Why don't bears wear\" }\n",
      "{ setup: \"Why don't bears wear shoes\" }\n",
      "{ setup: \"Why don't bears wear shoes?\", punchline: \"\" }\n",
      "{ setup: \"Why don't bears wear shoes?\", punchline: \"Because\" }\n",
      "{ setup: \"Why don't bears wear shoes?\", punchline: \"Because they\" }\n",
      "{\n",
      "  setup: \"Why don't bears wear shoes?\",\n",
      "  punchline: \"Because they have\"\n",
      "}\n",
      "{\n",
      "  setup: \"Why don't bears wear shoes?\",\n",
      "  punchline: \"Because they have bear\"\n",
      "}\n",
      "{\n",
      "  setup: \"Why don't bears wear shoes?\",\n",
      "  punchline: \"Because they have bear feet\"\n",
      "}\n",
      "{\n",
      "  setup: \"Why don't bears wear shoes?\",\n",
      "  punchline: \"Because they have bear feet!\"\n",
      "}\n"
     ]
    }
   ],
   "source": [
    "for await (const step of await chain.stream({\n",
    "  topic: \"bears\",\n",
    "})) {\n",
    "  console.log(step);\n",
    "}"
   ]
  }
 ],
 "metadata": {
  "kernelspec": {
   "display_name": "Deno",
   "language": "typescript",
   "name": "deno"
  },
  "language_info": {
   "file_extension": ".ts",
   "mimetype": "text/x.typescript",
   "name": "typescript",
   "nb_converter": "script",
   "pygments_lexer": "typescript",
   "version": "5.3.3"
  }
 },
 "nbformat": 4,
 "nbformat_minor": 2
}
