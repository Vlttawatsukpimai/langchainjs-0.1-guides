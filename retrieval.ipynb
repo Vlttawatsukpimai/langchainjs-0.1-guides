{
 "cells": [
  {
   "cell_type": "markdown",
   "metadata": {},
   "source": [
    "# Retrieval\n",
    "\n",
    "This notebook covers basic walkthrough of retrieval functionality in LangChain. For more information, see:\n",
    "\n",
    "- [Retrieval Documentation](https://js.langchain.com/docs/modules/data_connection/)\n",
    "- [Advanced Retrieval Types](https://js.langchain.com/docs/modules/data_connection/retrievers/)\n",
    "- [QA with RAG Use Case Documentation](https://js.langchain.com/docs/use_cases/question_answering/)"
   ]
  },
  {
   "cell_type": "markdown",
   "metadata": {},
   "source": [
    "### Setup\n",
    "\n",
    "This notebook uses the `CheerioWebBaseLoader` which requires installing `cheerio`:\n",
    "\n",
    "```bash\n",
    "npm install cheerio\n",
    "```"
   ]
  },
  {
   "cell_type": "code",
   "execution_count": 1,
   "metadata": {},
   "outputs": [
    {
     "data": {
      "text/plain": [
       "[Module: null prototype] {\n",
       "  contains: \u001b[36m[Function: contains]\u001b[39m,\n",
       "  default: [Function: initialize] {\n",
       "    contains: \u001b[36m[Function: contains]\u001b[39m,\n",
       "    html: \u001b[36m[Function: html]\u001b[39m,\n",
       "    merge: \u001b[36m[Function: merge]\u001b[39m,\n",
       "    parseHTML: \u001b[36m[Function: parseHTML]\u001b[39m,\n",
       "    root: \u001b[36m[Function: root]\u001b[39m,\n",
       "    text: \u001b[36m[Function: text]\u001b[39m,\n",
       "    xml: \u001b[36m[Function: xml]\u001b[39m,\n",
       "    load: \u001b[36m[Function: load]\u001b[39m,\n",
       "    _root: Document {\n",
       "      parent: \u001b[1mnull\u001b[22m,\n",
       "      prev: \u001b[1mnull\u001b[22m,\n",
       "      next: \u001b[1mnull\u001b[22m,\n",
       "      startIndex: \u001b[1mnull\u001b[22m,\n",
       "      endIndex: \u001b[1mnull\u001b[22m,\n",
       "      children: [],\n",
       "      type: \u001b[32m\"root\"\u001b[39m\n",
       "    },\n",
       "    _options: { xml: \u001b[33mfalse\u001b[39m, decodeEntities: \u001b[33mtrue\u001b[39m },\n",
       "    fn: Cheerio {}\n",
       "  },\n",
       "  html: \u001b[36m[Function: html]\u001b[39m,\n",
       "  load: \u001b[36m[Function: load]\u001b[39m,\n",
       "  merge: \u001b[36m[Function: merge]\u001b[39m,\n",
       "  parseHTML: \u001b[36m[Function: parseHTML]\u001b[39m,\n",
       "  root: \u001b[36m[Function: root]\u001b[39m,\n",
       "  text: \u001b[36m[Function: text]\u001b[39m,\n",
       "  xml: \u001b[36m[Function: xml]\u001b[39m\n",
       "}"
      ]
     },
     "execution_count": 1,
     "metadata": {},
     "output_type": "execute_result"
    }
   ],
   "source": [
    "import \"cheerio\";\n",
    "import { CheerioWebBaseLoader } from \"langchain/document_loaders/web/cheerio\";\n",
    "\n",
    "const loader = new CheerioWebBaseLoader(\n",
    "  \"https://docs.smith.langchain.com/overview\"\n",
    ");\n",
    "\n",
    "const docs = await loader.load();"
   ]
  },
  {
   "cell_type": "markdown",
   "metadata": {},
   "source": [
    "## Split documents\n"
   ]
  },
  {
   "cell_type": "code",
   "execution_count": 2,
   "metadata": {},
   "outputs": [],
   "source": [
    "import { RecursiveCharacterTextSplitter } from \"langchain/text_splitter\";\n",
    "\n",
    "const textSplitter = new RecursiveCharacterTextSplitter();\n",
    "const documents = await textSplitter.splitDocuments(docs);"
   ]
  },
  {
   "cell_type": "code",
   "execution_count": 3,
   "metadata": {},
   "outputs": [
    {
     "name": "stdout",
     "output_type": "stream",
     "text": [
      "60\n"
     ]
    }
   ],
   "source": [
    "console.log(documents.length)"
   ]
  },
  {
   "cell_type": "markdown",
   "metadata": {},
   "source": [
    "## Index Documents"
   ]
  },
  {
   "cell_type": "code",
   "execution_count": 4,
   "metadata": {},
   "outputs": [],
   "source": [
    "import { OpenAIEmbeddings } from \"@langchain/openai\";\n",
    "import { MemoryVectorStore } from \"langchain/vectorstores/memory\";\n",
    "\n",
    "const embeddings = new OpenAIEmbeddings();\n",
    "const vector = await MemoryVectorStore.fromDocuments(documents, embeddings);"
   ]
  },
  {
   "cell_type": "markdown",
   "metadata": {},
   "source": [
    "## Query Documents"
   ]
  },
  {
   "cell_type": "code",
   "execution_count": 5,
   "metadata": {},
   "outputs": [],
   "source": [
    "import { createStuffDocumentsChain } from \"langchain/chains/combine_documents\";\n",
    "import { ChatOpenAI } from \"@langchain/openai\";\n",
    "import { ChatPromptTemplate } from \"@langchain/core/prompts\";\n",
    "\n",
    "const prompt = ChatPromptTemplate.fromTemplate(`Answer the following question based only on the provided context:\n",
    "\n",
    "<context>\n",
    "{context}\n",
    "</context>\n",
    "\n",
    "Question: {input}`);\n",
    "const llm = new ChatOpenAI({\n",
    "  modelName: \"gpt-3.5-turbo\",\n",
    "  temperature: 0,\n",
    "});\n",
    "\n",
    "const documentChain = await createStuffDocumentsChain({\n",
    "  llm,\n",
    "  prompt,\n",
    "});"
   ]
  },
  {
   "cell_type": "code",
   "execution_count": 6,
   "metadata": {},
   "outputs": [],
   "source": [
    "import { createRetrievalChain } from \"langchain/chains/retrieval\";\n",
    "\n",
    "const retriever = vector.asRetriever();\n",
    "const retrievalChain = await createRetrievalChain({\n",
    "  retriever,\n",
    "  combineDocsChain: documentChain,\n",
    "});"
   ]
  },
  {
   "cell_type": "code",
   "execution_count": 7,
   "metadata": {},
   "outputs": [
    {
     "name": "stdout",
     "output_type": "stream",
     "text": [
      "LangSmith can help with testing by allowing users to quickly edit examples and add them to datasets. This helps expand the surface area of evaluation sets and fine-tune models for improved quality or reduced costs. Additionally, LangSmith can be used to monitor applications, log all traces, visualize latency and token usage statistics, and troubleshoot specific issues as they arise. Users can also associate feedback programmatically with runs, track performance over time, and pinpoint underperforming data points.\n"
     ]
    }
   ],
   "source": [
    "const response = await retrievalChain.invoke({ input: \"how can langsmith help with testing?\" });\n",
    "console.log(response.answer);"
   ]
  },
  {
   "cell_type": "markdown",
   "metadata": {},
   "source": [
    "## Advanced Retrieval"
   ]
  },
  {
   "cell_type": "code",
   "execution_count": 8,
   "metadata": {},
   "outputs": [],
   "source": [
    "import { MultiQueryRetriever } from \"langchain/retrievers/multi_query\";\n",
    "\n",
    "const advancedRetriever = MultiQueryRetriever.fromLLM({ llm, retriever })"
   ]
  },
  {
   "cell_type": "code",
   "execution_count": 9,
   "metadata": {},
   "outputs": [],
   "source": [
    "const retrievalChain = await createRetrievalChain({\n",
    "  retriever: advancedRetriever,\n",
    "  combineDocsChain: documentChain,\n",
    "});"
   ]
  },
  {
   "cell_type": "code",
   "execution_count": 10,
   "metadata": {},
   "outputs": [
    {
     "name": "stdout",
     "output_type": "stream",
     "text": [
      "LangSmith can help with testing by allowing users to quickly edit examples and add them to datasets, expanding the surface area of evaluation sets. It can also be used to fine-tune a model for improved quality or reduced costs. Additionally, LangSmith provides the ability to monitor applications, log traces, visualize latency and token usage statistics, and troubleshoot specific issues. Users can also associate feedback programmatically with runs, track performance over time, and pinpoint underperforming data points. LangSmith simplifies debugging by providing insights into unexpected end results, agent looping, chain speed, and token usage. It also allows for the construction and export of datasets for future testing and evaluation.\n"
     ]
    }
   ],
   "source": [
    "const response = await retrievalChain.invoke({ input: \"how can langsmith help with testing?\" });\n",
    "console.log(response.answer);"
   ]
  }
 ],
 "metadata": {
  "kernelspec": {
   "display_name": "Deno",
   "language": "typescript",
   "name": "deno"
  },
  "language_info": {
   "file_extension": ".ts",
   "mimetype": "text/x.typescript",
   "name": "typescript",
   "nb_converter": "script",
   "pygments_lexer": "typescript",
   "version": "5.3.3"
  }
 },
 "nbformat": 4,
 "nbformat_minor": 2
}
