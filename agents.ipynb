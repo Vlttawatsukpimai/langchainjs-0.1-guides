{
 "cells": [
  {
   "cell_type": "markdown",
   "metadata": {},
   "source": [
    "# Agents\n",
    "\n",
    "This notebook covers basic functionality related to agents.For more in detail documentation, see:\n",
    "\n",
    "- [Agent Documentation](https://js.langchain.com/docs/modules/agents/)\n",
    "- [Agent Types](https://js.langchain.com/docs/modules/agents/agent_types/)"
   ]
  },
  {
   "cell_type": "code",
   "execution_count": 1,
   "metadata": {},
   "outputs": [],
   "source": [
    "import { TavilySearchResults } from \"@langchain/community/tools/tavily_search\";\n",
    "import { ChatOpenAI } from \"@langchain/openai\";\n",
    "import { pull } from \"langchain/hub\";\n",
    "import { createOpenAIFunctionsAgent, AgentExecutor } from \"langchain/agents\";\n",
    "import { ChatPromptTemplate } from \"@langchain/core/prompts\";"
   ]
  },
  {
   "cell_type": "markdown",
   "metadata": {},
   "source": [
    "## Prompt"
   ]
  },
  {
   "cell_type": "code",
   "execution_count": 2,
   "metadata": {},
   "outputs": [],
   "source": [
    "// Get the prompt to use - you can modify this!\n",
    "const prompt = await pull<ChatPromptTemplate>(\"hwchase17/openai-functions-agent\");"
   ]
  },
  {
   "cell_type": "markdown",
   "metadata": {},
   "source": [
    "## LLM"
   ]
  },
  {
   "cell_type": "code",
   "execution_count": 3,
   "metadata": {},
   "outputs": [],
   "source": [
    "const llm = new ChatOpenAI({\n",
    "  modelName: \"gpt-3.5-turbo\",\n",
    "  temperature: 0,\n",
    "});"
   ]
  },
  {
   "cell_type": "markdown",
   "metadata": {},
   "source": [
    "## Tools"
   ]
  },
  {
   "cell_type": "code",
   "execution_count": 4,
   "metadata": {},
   "outputs": [],
   "source": [
    "const search = new TavilySearchResults();\n",
    "const tools = [search];"
   ]
  },
  {
   "cell_type": "markdown",
   "metadata": {},
   "source": [
    "## Agent"
   ]
  },
  {
   "cell_type": "code",
   "execution_count": 5,
   "metadata": {},
   "outputs": [],
   "source": [
    "const agent = await createOpenAIFunctionsAgent({\n",
    "  llm,\n",
    "  tools,\n",
    "  prompt,\n",
    "});"
   ]
  },
  {
   "cell_type": "markdown",
   "metadata": {},
   "source": [
    "## Agent Executor"
   ]
  },
  {
   "cell_type": "code",
   "execution_count": 6,
   "metadata": {},
   "outputs": [],
   "source": [
    "const agentExecutor = new AgentExecutor({ agent, tools });"
   ]
  },
  {
   "cell_type": "code",
   "execution_count": 7,
   "metadata": {},
   "outputs": [
    {
     "data": {
      "text/plain": [
       "{\n",
       "  input: \u001b[32m\"what's the weather in SF?\"\u001b[39m,\n",
       "  output: \u001b[32m\"I'm sorry, but I couldn't find the current weather in San Francisco. However, you can check the weat\"\u001b[39m... 598 more characters\n",
       "}"
      ]
     },
     "execution_count": 7,
     "metadata": {},
     "output_type": "execute_result"
    }
   ],
   "source": [
    "await agentExecutor.invoke({ input: \"what's the weather in SF?\" });"
   ]
  },
  {
   "cell_type": "markdown",
   "metadata": {},
   "source": [
    "## Streaming"
   ]
  },
  {
   "cell_type": "code",
   "execution_count": 8,
   "metadata": {},
   "outputs": [
    {
     "name": "stdout",
     "output_type": "stream",
     "text": [
      "{\n",
      "  intermediateSteps: [\n",
      "    {\n",
      "      action: {\n",
      "        tool: \"tavily_search_results_json\",\n",
      "        toolInput: { input: \"weather in San Francisco\" },\n",
      "        log: 'Invoking \"tavily_search_results_json\" with {\\n' +\n",
      "          '  \"input\": \"weather in San Francisco\"\\n' +\n",
      "          \"}\\n\",\n",
      "        messageLog: [ [AIMessage] ]\n",
      "      },\n",
      "      observation: '[{\"title\":\"Weather for San Francisco | People°s Weather\",\"url\":\"https://www.peoplesweather.com/weath'... 2004 more characters\n",
      "    }\n",
      "  ]\n",
      "}\n",
      "{\n",
      "  output: \"The weather in San Francisco is currently 9°C with a light breeze. It is mostly cloudy in the mornin\"... 87 more characters\n",
      "}\n"
     ]
    }
   ],
   "source": [
    "for await (const step of await agentExecutor.stream({\n",
    "  input: \"what's the weather in SF?\",\n",
    "})) {\n",
    "  console.log(step);\n",
    "}"
   ]
  }
 ],
 "metadata": {
  "kernelspec": {
   "display_name": "Deno",
   "language": "typescript",
   "name": "deno"
  },
  "language_info": {
   "file_extension": ".ts",
   "mimetype": "text/x.typescript",
   "name": "typescript",
   "nb_converter": "script",
   "pygments_lexer": "typescript",
   "version": "5.3.3"
  }
 },
 "nbformat": 4,
 "nbformat_minor": 2
}
