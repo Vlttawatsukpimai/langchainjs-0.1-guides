{
 "cells": [
  {
   "cell_type": "markdown",
   "metadata": {},
   "source": [
    "# Composability\n",
    "\n",
    "This notebook shows off some basic functionality around LangChain Expression Language, which makes it really easy to compose arbitrary chains.\n",
    "\n",
    "For a much deeper dive, see:\n",
    "\n",
    "- [Full LangChain Expression Language Documentation](https://js.langchain.com/docs/expression_language/)\n",
    "\n",
    "## Basic Composability"
   ]
  },
  {
   "cell_type": "code",
   "execution_count": 1,
   "metadata": {},
   "outputs": [],
   "source": [
    "import { ChatOpenAI } from \"@langchain/openai\";\n",
    "import { ChatPromptTemplate } from \"@langchain/core/prompts\";\n",
    "import { StringOutputParser } from \"@langchain/core/output_parsers\";\n"
   ]
  },
  {
   "cell_type": "code",
   "execution_count": 2,
   "metadata": {},
   "outputs": [],
   "source": [
    "const prompt = ChatPromptTemplate.fromTemplate(\"Tell me a joke about {topic}\");\n",
    "const model = new ChatOpenAI({\n",
    "  modelName: \"gpt-3.5-turbo\",\n",
    "  temperature: 0,\n",
    "});\n",
    "const outputParser = new StringOutputParser();"
   ]
  },
  {
   "cell_type": "code",
   "execution_count": 3,
   "metadata": {},
   "outputs": [],
   "source": [
    "const chain = prompt.pipe(model).pipe(outputParser);"
   ]
  },
  {
   "cell_type": "code",
   "execution_count": 4,
   "metadata": {},
   "outputs": [
    {
     "data": {
      "text/plain": [
       "\u001b[32m\"Why don't bears wear shoes?\\n\\nBecause they have bear feet!\"\u001b[39m"
      ]
     },
     "execution_count": 4,
     "metadata": {},
     "output_type": "execute_result"
    }
   ],
   "source": [
    "await chain.invoke({ topic: \"bears \"});"
   ]
  },
  {
   "cell_type": "markdown",
   "metadata": {},
   "source": [
    "### Batching"
   ]
  },
  {
   "cell_type": "code",
   "execution_count": 5,
   "metadata": {},
   "outputs": [
    {
     "data": {
      "text/plain": [
       "[\n",
       "  \u001b[32m\"Why don't bears wear shoes?\\n\\nBecause they have bear feet!\"\u001b[39m,\n",
       "  \u001b[32m\"Why don't clowns ever use an elevator?\\n\"\u001b[39m +\n",
       "    \u001b[32m\"\\n\"\u001b[39m +\n",
       "    \u001b[32m`Because they're always taking the \"funny\" way!`\u001b[39m\n",
       "]"
      ]
     },
     "execution_count": 5,
     "metadata": {},
     "output_type": "execute_result"
    }
   ],
   "source": [
    "await chain.batch([{ topic: \"bears \"}, { topic: \"clowns\" }]);"
   ]
  },
  {
   "cell_type": "markdown",
   "metadata": {},
   "source": [
    "### Streaming"
   ]
  },
  {
   "cell_type": "code",
   "execution_count": 6,
   "metadata": {},
   "outputs": [
    {
     "name": "stdout",
     "output_type": "stream",
     "text": [
      "\n",
      "Why\n",
      " don\n",
      "'t\n",
      " bears\n",
      " wear\n",
      " shoes\n",
      "?\n",
      "\n",
      "\n",
      "Because\n",
      " they\n",
      " have\n",
      " bear\n",
      " feet\n",
      "!\n",
      "\n"
     ]
    }
   ],
   "source": [
    "for await (const stream of await chain.stream({ topic: \"bears\" })) {\n",
    "  console.log(stream);\n",
    "}"
   ]
  },
  {
   "cell_type": "markdown",
   "metadata": {},
   "source": [
    "## RunnablePassthrough"
   ]
  },
  {
   "cell_type": "code",
   "execution_count": 7,
   "metadata": {},
   "outputs": [],
   "source": [
    "import { TavilySearchAPIRetriever } from \"@langchain/community/retrievers/tavily_search_api\";\n",
    "\n",
    "const retriever = new TavilySearchAPIRetriever();\n",
    "\n",
    "const prompt = ChatPromptTemplate.fromTemplate(`Answer the question based only on the context provided:\n",
    "\n",
    "Context: {context}\n",
    "\n",
    "Question: {question}`);"
   ]
  },
  {
   "cell_type": "code",
   "execution_count": 8,
   "metadata": {},
   "outputs": [],
   "source": [
    "const chain = prompt.pipe(model).pipe(outputParser);"
   ]
  },
  {
   "cell_type": "code",
   "execution_count": 9,
   "metadata": {},
   "outputs": [
    {
     "data": {
      "text/plain": [
       "\u001b[32m\"Langsmith is a testing and observability platform developed by the Langchain team.\"\u001b[39m"
      ]
     },
     "execution_count": 9,
     "metadata": {},
     "output_type": "execute_result"
    }
   ],
   "source": [
    "const question = \"what is langsmith\"\n",
    "const context = \"langsmith is a testing and observability platform built by the langchain team\"\n",
    "await chain.invoke({ question, context })"
   ]
  },
  {
   "cell_type": "code",
   "execution_count": 10,
   "metadata": {},
   "outputs": [],
   "source": [
    "import { RunnablePassthrough } from \"@langchain/core/runnables\";\n",
    "import { formatDocumentsAsString } from \"langchain/util/document\";\n",
    "\n",
    "const retrievalChain = RunnablePassthrough.assign({\n",
    "  context: async (i: { question: string }) =>\n",
    "    formatDocumentsAsString(await retriever.getRelevantDocuments(i.question))\n",
    "}).withConfig({ runName: \"passthrough\" }).pipe(chain);"
   ]
  },
  {
   "cell_type": "code",
   "execution_count": 11,
   "metadata": {},
   "outputs": [
    {
     "data": {
      "text/plain": [
       "\u001b[32m\"LangSmith is a platform that helps trace and evaluate language model applications and intelligent ag\"\u001b[39m... 354 more characters"
      ]
     },
     "execution_count": 11,
     "metadata": {},
     "output_type": "execute_result"
    }
   ],
   "source": [
    "await retrievalChain.invoke({ question })"
   ]
  },
  {
   "cell_type": "markdown",
   "metadata": {},
   "source": [
    "## RunnableParallel"
   ]
  },
  {
   "cell_type": "code",
   "execution_count": 12,
   "metadata": {},
   "outputs": [],
   "source": [
    "import { RunnableParallel } from \"@langchain/core/runnables\";"
   ]
  },
  {
   "cell_type": "code",
   "execution_count": 13,
   "metadata": {},
   "outputs": [],
   "source": [
    "const prompt = ChatPromptTemplate.fromTemplate(\"{question}\");\n",
    "const simpleChain = prompt.pipe(model).pipe(outputParser);"
   ]
  },
  {
   "cell_type": "code",
   "execution_count": 14,
   "metadata": {},
   "outputs": [],
   "source": [
    "const parallelChain = new RunnableParallel({\n",
    "  steps: {\n",
    "    retrievedAnswer: retrievalChain,\n",
    "    simpleAnswer: simpleChain\n",
    "  }\n",
    "});"
   ]
  },
  {
   "cell_type": "code",
   "execution_count": 15,
   "metadata": {},
   "outputs": [
    {
     "data": {
      "text/plain": [
       "{\n",
       "  simpleAnswer: \u001b[32m`I'm sorry, but I couldn't find any information about \"langsmith.\" It is possible that it may be a mi`\u001b[39m... 97 more characters,\n",
       "  retrievedAnswer: \u001b[32m\"LangSmith is a platform or tool that helps developers track the performance, debug issues, and evalu\"\u001b[39m... 446 more characters\n",
       "}"
      ]
     },
     "execution_count": 15,
     "metadata": {},
     "output_type": "execute_result"
    }
   ],
   "source": [
    "await parallelChain.invoke({ question });"
   ]
  },
  {
   "cell_type": "code",
   "execution_count": 16,
   "metadata": {},
   "outputs": [
    {
     "name": "stdout",
     "output_type": "stream",
     "text": [
      "{ simpleAnswer: \"\" }\n",
      "{ simpleAnswer: \"I\" }\n",
      "{ simpleAnswer: \"'m\" }\n",
      "{ simpleAnswer: \" sorry\" }\n",
      "{ simpleAnswer: \",\" }\n",
      "{ simpleAnswer: \" but\" }\n",
      "{ simpleAnswer: \" I\" }\n",
      "{ simpleAnswer: \" couldn\" }\n",
      "{ simpleAnswer: \"'t\" }\n",
      "{ simpleAnswer: \" find\" }\n",
      "{ simpleAnswer: \" any\" }\n",
      "{ simpleAnswer: \" information\" }\n",
      "{ simpleAnswer: \" about\" }\n",
      "{ simpleAnswer: ' \"' }\n",
      "{ simpleAnswer: \"lang\" }\n",
      "{ simpleAnswer: \"smith\" }\n",
      "{ simpleAnswer: '.\"' }\n",
      "{ simpleAnswer: \" It\" }\n",
      "{ simpleAnswer: \" is\" }\n",
      "{ simpleAnswer: \" possible\" }\n",
      "{ simpleAnswer: \" that\" }\n",
      "{ simpleAnswer: \" it\" }\n",
      "{ simpleAnswer: \" may\" }\n",
      "{ simpleAnswer: \" be\" }\n",
      "{ simpleAnswer: \" a\" }\n",
      "{ simpleAnswer: \" miss\" }\n",
      "{ simpleAnswer: \"p\" }\n",
      "{ simpleAnswer: \"elling\" }\n",
      "{ simpleAnswer: \" or\" }\n",
      "{ simpleAnswer: \" a\" }\n",
      "{ simpleAnswer: \" lesser\" }\n",
      "{ simpleAnswer: \"-known\" }\n",
      "{ simpleAnswer: \" term\" }\n",
      "{ simpleAnswer: \".\" }\n",
      "{ simpleAnswer: \" Could\" }\n",
      "{ simpleAnswer: \" you\" }\n",
      "{ simpleAnswer: \" please\" }\n",
      "{ simpleAnswer: \" provide\" }\n",
      "{ simpleAnswer: \" more\" }\n",
      "{ simpleAnswer: \" context\" }\n",
      "{ simpleAnswer: \" or\" }\n",
      "{ simpleAnswer: \" clarify\" }\n",
      "{ simpleAnswer: \" your\" }\n",
      "{ simpleAnswer: \" question\" }\n",
      "{ simpleAnswer: \"?\" }\n",
      "{ simpleAnswer: \"\" }\n",
      "{ retrievedAnswer: \"\" }\n",
      "{ retrievedAnswer: \"Lang\" }\n",
      "{ retrievedAnswer: \"Smith\" }\n",
      "{ retrievedAnswer: \" is\" }\n",
      "{ retrievedAnswer: \" a\" }\n",
      "{ retrievedAnswer: \" platform\" }\n",
      "{ retrievedAnswer: \" that\" }\n",
      "{ retrievedAnswer: \" helps\" }\n",
      "{ retrievedAnswer: \" developers\" }\n",
      "{ retrievedAnswer: \" trace\" }\n",
      "{ retrievedAnswer: \" and\" }\n",
      "{ retrievedAnswer: \" evaluate\" }\n",
      "{ retrievedAnswer: \" their\" }\n",
      "{ retrievedAnswer: \" language\" }\n",
      "{ retrievedAnswer: \" model\" }\n",
      "{ retrievedAnswer: \" applications\" }\n",
      "{ retrievedAnswer: \" and\" }\n",
      "{ retrievedAnswer: \" intelligent\" }\n",
      "{ retrievedAnswer: \" agents\" }\n",
      "{ retrievedAnswer: \".\" }\n",
      "{ retrievedAnswer: \" It\" }\n",
      "{ retrievedAnswer: \" provides\" }\n",
      "{ retrievedAnswer: \" visibility\" }\n",
      "{ retrievedAnswer: \" into\" }\n",
      "{ retrievedAnswer: \" model\" }\n",
      "{ retrievedAnswer: \" inputs\" }\n",
      "{ retrievedAnswer: \" and\" }\n",
      "{ retrievedAnswer: \" outputs\" }\n",
      "{ retrievedAnswer: \",\" }\n",
      "{ retrievedAnswer: \" allows\" }\n",
      "{ retrievedAnswer: \" for\" }\n",
      "{ retrievedAnswer: \" debugging\" }\n",
      "{ retrievedAnswer: \" and\" }\n",
      "{ retrievedAnswer: \" testing\" }\n",
      "{ retrievedAnswer: \",\" }\n",
      "{ retrievedAnswer: \" and\" }\n",
      "{ retrievedAnswer: \" helps\" }\n",
      "{ retrievedAnswer: \" track\" }\n",
      "{ retrievedAnswer: \" system\" }\n",
      "{ retrievedAnswer: \"-level\" }\n",
      "{ retrievedAnswer: \" performance\" }\n",
      "{ retrievedAnswer: \".\" }\n",
      "{ retrievedAnswer: \" Lang\" }\n",
      "{ retrievedAnswer: \"Smith\" }\n",
      "{ retrievedAnswer: \" aims\" }\n",
      "{ retrievedAnswer: \" to\" }\n",
      "{ retrievedAnswer: \" be\" }\n",
      "{ retrievedAnswer: \" a\" }\n",
      "{ retrievedAnswer: \" unified\" }\n",
      "{ retrievedAnswer: \" platform\" }\n",
      "{ retrievedAnswer: \" for\" }\n",
      "{ retrievedAnswer: \" all\" }\n",
      "{ retrievedAnswer: \" these\" }\n",
      "{ retrievedAnswer: \" tasks\" }\n",
      "{ retrievedAnswer: \",\" }\n",
      "{ retrievedAnswer: \" making\" }\n",
      "{ retrievedAnswer: \" it\" }\n",
      "{ retrievedAnswer: \" easier\" }\n",
      "{ retrievedAnswer: \" for\" }\n",
      "{ retrievedAnswer: \" developers\" }\n",
      "{ retrievedAnswer: \" to\" }\n",
      "{ retrievedAnswer: \" work\" }\n",
      "{ retrievedAnswer: \" with\" }\n",
      "{ retrievedAnswer: \" language\" }\n",
      "{ retrievedAnswer: \" models\" }\n",
      "{ retrievedAnswer: \" and\" }\n",
      "{ retrievedAnswer: \" improve\" }\n",
      "{ retrievedAnswer: \" their\" }\n",
      "{ retrievedAnswer: \" applications\" }\n",
      "{ retrievedAnswer: \".\" }\n",
      "{ retrievedAnswer: \"\" }\n"
     ]
    }
   ],
   "source": [
    "for await (const stream of await parallelChain.stream({ question })) {\n",
    "  console.log(stream);\n",
    "}"
   ]
  }
 ],
 "metadata": {
  "kernelspec": {
   "display_name": "Deno",
   "language": "typescript",
   "name": "deno"
  },
  "language_info": {
   "file_extension": ".ts",
   "mimetype": "text/x.typescript",
   "name": "typescript",
   "nb_converter": "script",
   "pygments_lexer": "typescript",
   "version": "5.3.3"
  }
 },
 "nbformat": 4,
 "nbformat_minor": 2
}
